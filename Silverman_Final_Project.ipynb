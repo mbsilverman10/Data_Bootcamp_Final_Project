{
 "cells": [
  {
   "cell_type": "markdown",
   "metadata": {},
   "source": [
    "# Analysis of Basketball Player Gameplay Statistics"
   ]
  },
  {
   "cell_type": "markdown",
   "metadata": {},
   "source": [
    "### Rohan Malhotra, Matthew Silverman, Gidon Eydelnant\n",
    "### Data Bootcamp, December 2018"
   ]
  },
  {
   "cell_type": "markdown",
   "metadata": {},
   "source": [
    "##### Note: We are setting up an input box where the user will enter the assumptions based on criteria in the section below. If the user does not want to enter values of their own, they can hit enter five times and our default values will be entered instead. We are taking default values of 5000 ,300, 1000, 1000, 2500 for minutes, games played, threeAttempted (three point shots attempted), ftAttempted (free throws attempted), fgAttempted (field goals attempted). We feel this will best eliminate the noise based on the stats listed below. In order to run the code, the user needs to either enter the assumptions or leave the inputs blank and hit \"enter\" five times or else the code will hang."
   ]
  },
  {
   "cell_type": "markdown",
   "metadata": {},
   "source": [
    "### Outline\n",
    "This project analyzes data gathered over the past half century and looks specifically at individual basketball player statistics to identify which have the most well-rounded playing styles for their positions, as well as the relationship of their draft picks to the success of their games. The data is limited to exclude earlier than 1976 in order to use the period after the National Basketball Association (NBA) and American Basketball Association (ABA) merged, resulting in a more focused data pool. First, the project builds a function to identify the most well-rounded player based on their playing statistics overall, regardless of position. It then plots all players draft picks against their total career points scored, and then builds on the initial function to identify best players by position through evaluating metrics that are most relevant to each position. In section 4, the project plots free throw rankings agains three point rankings to indentify a relationship between players' ability to score points both from the free throw line and the three point shot. Finally, in section 5 we give a breakdown by category of Hall of Fame applicants depicted in a pie chart. The player data for this project was pulled from a dataset on Kaggle titled \"Men's Professional Basketball\" sourced here: https://www.kaggle.com/open-source-sports/mens-professional-basketball. Here is a link to the GitHub repository: https://github.com/mbsilverman10/Data_Bootcamp_Final_Project."
   ]
  },
  {
   "cell_type": "markdown",
   "metadata": {},
   "source": [
    "### Importing Packages"
   ]
  },
  {
   "cell_type": "code",
   "execution_count": 1,
   "metadata": {},
   "outputs": [],
   "source": [
    "import pandas as pd\n",
    "import numpy as np\n",
    "%matplotlib inline \n",
    "import matplotlib as mpl\n",
    "import matplotlib.pyplot as plt\n",
    "import datetime as dt \n",
    "import sys\n",
    "import statsmodels.formula.api as smf"
   ]
  },
  {
   "cell_type": "markdown",
   "metadata": {},
   "source": [
    "### Section 1: Identifying the \"most effecient basketball player\""
   ]
  },
  {
   "cell_type": "code",
   "execution_count": 2,
   "metadata": {},
   "outputs": [],
   "source": [
    "url_1=r'https://raw.githubusercontent.com/mbsilverman10/FinalProject/master/basketball_draft.csv'\n",
    "url_2=r'https://raw.githubusercontent.com/mbsilverman10/FinalProject/master/basketball_hof.csv'\n",
    "url_3=r'https://raw.githubusercontent.com/mbsilverman10/FinalProject/master/basketball_players.csv'\n",
    "url_4=r'https://raw.githubusercontent.com/mbsilverman10/FinalProject/master/basketball_master.csv'"
   ]
  },
  {
   "cell_type": "code",
   "execution_count": 3,
   "metadata": {},
   "outputs": [
    {
     "name": "stderr",
     "output_type": "stream",
     "text": [
      "/anaconda3/lib/python3.6/site-packages/IPython/core/interactiveshell.py:2785: DtypeWarning: Columns (41) have mixed types. Specify dtype option on import or set low_memory=False.\n",
      "  interactivity=interactivity, compiler=compiler, result=result)\n"
     ]
    },
    {
     "data": {
      "text/html": [
       "<div>\n",
       "<style scoped>\n",
       "    .dataframe tbody tr th:only-of-type {\n",
       "        vertical-align: middle;\n",
       "    }\n",
       "\n",
       "    .dataframe tbody tr th {\n",
       "        vertical-align: top;\n",
       "    }\n",
       "\n",
       "    .dataframe thead th {\n",
       "        text-align: right;\n",
       "    }\n",
       "</style>\n",
       "<table border=\"1\" class=\"dataframe\">\n",
       "  <thead>\n",
       "    <tr style=\"text-align: right;\">\n",
       "      <th></th>\n",
       "      <th>playerID</th>\n",
       "      <th>year</th>\n",
       "      <th>stint</th>\n",
       "      <th>tmID</th>\n",
       "      <th>lgID</th>\n",
       "      <th>GP</th>\n",
       "      <th>GS</th>\n",
       "      <th>minutes</th>\n",
       "      <th>points</th>\n",
       "      <th>oRebounds</th>\n",
       "      <th>...</th>\n",
       "      <th>PostBlocks</th>\n",
       "      <th>PostTurnovers</th>\n",
       "      <th>PostPF</th>\n",
       "      <th>PostfgAttempted</th>\n",
       "      <th>PostfgMade</th>\n",
       "      <th>PostftAttempted</th>\n",
       "      <th>PostftMade</th>\n",
       "      <th>PostthreeAttempted</th>\n",
       "      <th>PostthreeMade</th>\n",
       "      <th>note</th>\n",
       "    </tr>\n",
       "  </thead>\n",
       "  <tbody>\n",
       "    <tr>\n",
       "      <th>6263</th>\n",
       "      <td>abdulka01</td>\n",
       "      <td>1976</td>\n",
       "      <td>1</td>\n",
       "      <td>LAL</td>\n",
       "      <td>NBA</td>\n",
       "      <td>82</td>\n",
       "      <td>0</td>\n",
       "      <td>3016</td>\n",
       "      <td>2152</td>\n",
       "      <td>266</td>\n",
       "      <td>...</td>\n",
       "      <td>38</td>\n",
       "      <td>0</td>\n",
       "      <td>42</td>\n",
       "      <td>242</td>\n",
       "      <td>147</td>\n",
       "      <td>120</td>\n",
       "      <td>87</td>\n",
       "      <td>0</td>\n",
       "      <td>0</td>\n",
       "      <td>NaN</td>\n",
       "    </tr>\n",
       "  </tbody>\n",
       "</table>\n",
       "<p>1 rows × 42 columns</p>\n",
       "</div>"
      ],
      "text/plain": [
       "       playerID  year  stint tmID lgID  GP  GS  minutes  points  oRebounds  \\\n",
       "6263  abdulka01  1976      1  LAL  NBA  82   0     3016    2152        266   \n",
       "\n",
       "      ...   PostBlocks  PostTurnovers  PostPF  PostfgAttempted  PostfgMade  \\\n",
       "6263  ...           38              0      42              242         147   \n",
       "\n",
       "      PostftAttempted  PostftMade  PostthreeAttempted  PostthreeMade  note  \n",
       "6263              120          87                   0              0   NaN  \n",
       "\n",
       "[1 rows x 42 columns]"
      ]
     },
     "execution_count": 3,
     "metadata": {},
     "output_type": "execute_result"
    }
   ],
   "source": [
    "players=pd.read_csv(url_3) \n",
    "master=pd.read_csv(url_4)\n",
    "players=players[players.year>=1976] ## Filtering out player date before 1976\n",
    "players.head(1)"
   ]
  },
  {
   "cell_type": "markdown",
   "metadata": {},
   "source": [
    "#### The players file has all the statistics but not the name of the players.  It has a player ID.  The master file has the player ID along with the names.  That is why need to merge the two files.  In addition, we are adding player ID to the full name as there are multiple players with the same first and last names.  The player ID's are obviusly unique."
   ]
  },
  {
   "cell_type": "code",
   "execution_count": 4,
   "metadata": {},
   "outputs": [
    {
     "name": "stdout",
     "output_type": "stream",
     "text": [
      "(15552, 42) (5061, 26) (15552, 69)\n"
     ]
    }
   ],
   "source": [
    "pm=players.merge(master, left_on='playerID',right_on= 'bioID', how='left' )\n",
    "pm['Full_Name'] = pm['firstName'] + ' ' + pm['lastName'] + ' ' + '[' + pm['playerID'] + ']'\n",
    "print(players.shape,master.shape, pm.shape)"
   ]
  },
  {
   "cell_type": "markdown",
   "metadata": {},
   "source": [
    "Here, we created a new DataFrame with select columns and aggregated the data for the years specified. This is because statistics are listed for individual years and have multiple entries for the same player that plays for multiple years. Therefore, we can run our metrics after aggregating the data."
   ]
  },
  {
   "cell_type": "code",
   "execution_count": 5,
   "metadata": {},
   "outputs": [
    {
     "data": {
      "text/html": [
       "<div>\n",
       "<style scoped>\n",
       "    .dataframe tbody tr th:only-of-type {\n",
       "        vertical-align: middle;\n",
       "    }\n",
       "\n",
       "    .dataframe tbody tr th {\n",
       "        vertical-align: top;\n",
       "    }\n",
       "\n",
       "    .dataframe thead th {\n",
       "        text-align: right;\n",
       "    }\n",
       "</style>\n",
       "<table border=\"1\" class=\"dataframe\">\n",
       "  <thead>\n",
       "    <tr style=\"text-align: right;\">\n",
       "      <th></th>\n",
       "      <th>Full_Name</th>\n",
       "      <th>GP</th>\n",
       "      <th>minutes</th>\n",
       "      <th>points</th>\n",
       "      <th>rebounds</th>\n",
       "      <th>assists</th>\n",
       "      <th>steals</th>\n",
       "      <th>blocks</th>\n",
       "      <th>turnovers</th>\n",
       "      <th>PF</th>\n",
       "      <th>fgAttempted</th>\n",
       "      <th>fgMade</th>\n",
       "      <th>ftAttempted</th>\n",
       "      <th>ftMade</th>\n",
       "      <th>threeAttempted</th>\n",
       "      <th>threeMade</th>\n",
       "    </tr>\n",
       "  </thead>\n",
       "  <tbody>\n",
       "    <tr>\n",
       "      <th>0</th>\n",
       "      <td>A. Beck [beckby01]</td>\n",
       "      <td>53</td>\n",
       "      <td>480</td>\n",
       "      <td>250</td>\n",
       "      <td>96</td>\n",
       "      <td>33</td>\n",
       "      <td>15</td>\n",
       "      <td>1</td>\n",
       "      <td>0</td>\n",
       "      <td>59</td>\n",
       "      <td>246</td>\n",
       "      <td>107</td>\n",
       "      <td>44</td>\n",
       "      <td>36</td>\n",
       "      <td>0</td>\n",
       "      <td>0</td>\n",
       "    </tr>\n",
       "  </tbody>\n",
       "</table>\n",
       "</div>"
      ],
      "text/plain": [
       "            Full_Name  GP  minutes  points  rebounds  assists  steals  blocks  \\\n",
       "0  A. Beck [beckby01]  53      480     250        96       33      15       1   \n",
       "\n",
       "   turnovers  PF  fgAttempted  fgMade  ftAttempted  ftMade  threeAttempted  \\\n",
       "0          0  59          246     107           44      36               0   \n",
       "\n",
       "   threeMade  \n",
       "0          0  "
      ]
     },
     "execution_count": 5,
     "metadata": {},
     "output_type": "execute_result"
    }
   ],
   "source": [
    "Reg_season=pm[['Full_Name','GP','minutes','points','rebounds','assists','steals','blocks','turnovers','PF','fgAttempted',\n",
    "         'fgMade','ftAttempted','ftMade','threeAttempted','threeMade']]\n",
    "New_DF=Reg_season.groupby('Full_Name', as_index=False).aggregate(sum)\n",
    "New_DF.head(1)"
   ]
  },
  {
   "cell_type": "markdown",
   "metadata": {},
   "source": [
    "We are now adding nine performance criteria to the previous DataFrame, on which we will run our metrics. These are points effeciency, rebounds effeciency, assists effeciency, steals effeciency, blocks effeciency, turnovers effeciency, field goal percentage, free throw percenatge, and three point percentage."
   ]
  },
  {
   "cell_type": "code",
   "execution_count": 6,
   "metadata": {},
   "outputs": [
    {
     "data": {
      "text/html": [
       "<div>\n",
       "<style scoped>\n",
       "    .dataframe tbody tr th:only-of-type {\n",
       "        vertical-align: middle;\n",
       "    }\n",
       "\n",
       "    .dataframe tbody tr th {\n",
       "        vertical-align: top;\n",
       "    }\n",
       "\n",
       "    .dataframe thead th {\n",
       "        text-align: right;\n",
       "    }\n",
       "</style>\n",
       "<table border=\"1\" class=\"dataframe\">\n",
       "  <thead>\n",
       "    <tr style=\"text-align: right;\">\n",
       "      <th></th>\n",
       "      <th>Full_Name</th>\n",
       "      <th>GP</th>\n",
       "      <th>minutes</th>\n",
       "      <th>points</th>\n",
       "      <th>rebounds</th>\n",
       "      <th>assists</th>\n",
       "      <th>steals</th>\n",
       "      <th>blocks</th>\n",
       "      <th>turnovers</th>\n",
       "      <th>PF</th>\n",
       "      <th>...</th>\n",
       "      <th>threeMade</th>\n",
       "      <th>Points_Eff</th>\n",
       "      <th>Rebounds_Eff</th>\n",
       "      <th>Assists_Eff</th>\n",
       "      <th>Steals_Eff</th>\n",
       "      <th>Blocks_Eff</th>\n",
       "      <th>Turnovers_Eff</th>\n",
       "      <th>FG_PCT</th>\n",
       "      <th>FT_PCT</th>\n",
       "      <th>Three_PCT</th>\n",
       "    </tr>\n",
       "  </thead>\n",
       "  <tbody>\n",
       "    <tr>\n",
       "      <th>0</th>\n",
       "      <td>A. Beck [beckby01]</td>\n",
       "      <td>53</td>\n",
       "      <td>480</td>\n",
       "      <td>250</td>\n",
       "      <td>96</td>\n",
       "      <td>33</td>\n",
       "      <td>15</td>\n",
       "      <td>1</td>\n",
       "      <td>0</td>\n",
       "      <td>59</td>\n",
       "      <td>...</td>\n",
       "      <td>0</td>\n",
       "      <td>0.520833</td>\n",
       "      <td>0.2</td>\n",
       "      <td>0.06875</td>\n",
       "      <td>0.03125</td>\n",
       "      <td>0.002083</td>\n",
       "      <td>0.0</td>\n",
       "      <td>0.434959</td>\n",
       "      <td>0.818182</td>\n",
       "      <td>NaN</td>\n",
       "    </tr>\n",
       "  </tbody>\n",
       "</table>\n",
       "<p>1 rows × 25 columns</p>\n",
       "</div>"
      ],
      "text/plain": [
       "            Full_Name  GP  minutes  points  rebounds  assists  steals  blocks  \\\n",
       "0  A. Beck [beckby01]  53      480     250        96       33      15       1   \n",
       "\n",
       "   turnovers  PF    ...      threeMade  Points_Eff  Rebounds_Eff  Assists_Eff  \\\n",
       "0          0  59    ...              0    0.520833           0.2      0.06875   \n",
       "\n",
       "   Steals_Eff  Blocks_Eff  Turnovers_Eff    FG_PCT    FT_PCT  Three_PCT  \n",
       "0     0.03125    0.002083            0.0  0.434959  0.818182        NaN  \n",
       "\n",
       "[1 rows x 25 columns]"
      ]
     },
     "execution_count": 6,
     "metadata": {},
     "output_type": "execute_result"
    }
   ],
   "source": [
    "New_DF['Points_Eff']=New_DF['points']/New_DF['minutes']\n",
    "New_DF['Rebounds_Eff']=New_DF['rebounds']/New_DF['minutes']\n",
    "New_DF['Assists_Eff']=New_DF['assists']/New_DF['minutes']\n",
    "New_DF['Steals_Eff']=New_DF['steals']/New_DF['minutes']\n",
    "New_DF['Blocks_Eff']=New_DF['blocks']/New_DF['minutes']\n",
    "New_DF['Turnovers_Eff']=New_DF['turnovers']/New_DF['minutes']\n",
    "New_DF['FG_PCT']=New_DF['fgMade']/New_DF['fgAttempted']\n",
    "New_DF['FT_PCT']=New_DF['ftMade']/New_DF['ftAttempted']\n",
    "New_DF['Three_PCT']=New_DF['threeMade']/New_DF['threeAttempted']\n",
    "New_DF.head(1)"
   ]
  },
  {
   "cell_type": "markdown",
   "metadata": {},
   "source": [
    "Here we collect stats for various criteria to determine the sample size. For example, there are some players who have only attempted and made 2 out of 2 three point shots. They are not three point shooters normally but they could have played a large number of games and minutes. Therefore, these need to be excluded from the sample size to reduce the noise. This section also allows the user to input their own assumptions. We are setting up an input box where the user will enter the assumptions based on criteria in the section below. If the user does not want to enter values of their own, they can hit enter five times and our default values will be entered instead. We are taking default values of 5000 ,300, 1000, 1000, 2500 for minutes, games played, threeAttempted (three point shots attempted), ftAttempted (free throws attempted), fgAttempted (field goals attempted). We feel this will best eliminate the noise based on the stats listed below."
   ]
  },
  {
   "cell_type": "code",
   "execution_count": 7,
   "metadata": {},
   "outputs": [
    {
     "data": {
      "text/html": [
       "<div>\n",
       "<style scoped>\n",
       "    .dataframe tbody tr th:only-of-type {\n",
       "        vertical-align: middle;\n",
       "    }\n",
       "\n",
       "    .dataframe tbody tr th {\n",
       "        vertical-align: top;\n",
       "    }\n",
       "\n",
       "    .dataframe thead th {\n",
       "        text-align: right;\n",
       "    }\n",
       "</style>\n",
       "<table border=\"1\" class=\"dataframe\">\n",
       "  <thead>\n",
       "    <tr style=\"text-align: right;\">\n",
       "      <th></th>\n",
       "      <th>minutes</th>\n",
       "      <th>GP</th>\n",
       "      <th>threeAttempted</th>\n",
       "      <th>ftAttempted</th>\n",
       "      <th>fgAttempted</th>\n",
       "    </tr>\n",
       "  </thead>\n",
       "  <tbody>\n",
       "    <tr>\n",
       "      <th>count</th>\n",
       "      <td>2627.000000</td>\n",
       "      <td>2627.000000</td>\n",
       "      <td>2627.000000</td>\n",
       "      <td>2627.000000</td>\n",
       "      <td>2627.000000</td>\n",
       "    </tr>\n",
       "    <tr>\n",
       "      <th>mean</th>\n",
       "      <td>7105.547012</td>\n",
       "      <td>297.913970</td>\n",
       "      <td>312.593453</td>\n",
       "      <td>784.359726</td>\n",
       "      <td>2477.194518</td>\n",
       "    </tr>\n",
       "    <tr>\n",
       "      <th>std</th>\n",
       "      <td>9332.491990</td>\n",
       "      <td>313.757238</td>\n",
       "      <td>727.684694</td>\n",
       "      <td>1274.503318</td>\n",
       "      <td>3623.689774</td>\n",
       "    </tr>\n",
       "    <tr>\n",
       "      <th>min</th>\n",
       "      <td>0.000000</td>\n",
       "      <td>1.000000</td>\n",
       "      <td>0.000000</td>\n",
       "      <td>0.000000</td>\n",
       "      <td>0.000000</td>\n",
       "    </tr>\n",
       "    <tr>\n",
       "      <th>25%</th>\n",
       "      <td>406.000000</td>\n",
       "      <td>44.000000</td>\n",
       "      <td>1.000000</td>\n",
       "      <td>35.000000</td>\n",
       "      <td>121.000000</td>\n",
       "    </tr>\n",
       "    <tr>\n",
       "      <th>50%</th>\n",
       "      <td>2579.000000</td>\n",
       "      <td>164.000000</td>\n",
       "      <td>17.000000</td>\n",
       "      <td>229.000000</td>\n",
       "      <td>766.000000</td>\n",
       "    </tr>\n",
       "    <tr>\n",
       "      <th>75%</th>\n",
       "      <td>10843.000000</td>\n",
       "      <td>495.000000</td>\n",
       "      <td>193.500000</td>\n",
       "      <td>1012.000000</td>\n",
       "      <td>3410.500000</td>\n",
       "    </tr>\n",
       "    <tr>\n",
       "      <th>max</th>\n",
       "      <td>54852.000000</td>\n",
       "      <td>1611.000000</td>\n",
       "      <td>6788.000000</td>\n",
       "      <td>13188.000000</td>\n",
       "      <td>26210.000000</td>\n",
       "    </tr>\n",
       "  </tbody>\n",
       "</table>\n",
       "</div>"
      ],
      "text/plain": [
       "            minutes           GP  threeAttempted   ftAttempted   fgAttempted\n",
       "count   2627.000000  2627.000000     2627.000000   2627.000000   2627.000000\n",
       "mean    7105.547012   297.913970      312.593453    784.359726   2477.194518\n",
       "std     9332.491990   313.757238      727.684694   1274.503318   3623.689774\n",
       "min        0.000000     1.000000        0.000000      0.000000      0.000000\n",
       "25%      406.000000    44.000000        1.000000     35.000000    121.000000\n",
       "50%     2579.000000   164.000000       17.000000    229.000000    766.000000\n",
       "75%    10843.000000   495.000000      193.500000   1012.000000   3410.500000\n",
       "max    54852.000000  1611.000000     6788.000000  13188.000000  26210.000000"
      ]
     },
     "execution_count": 7,
     "metadata": {},
     "output_type": "execute_result"
    }
   ],
   "source": [
    "New_DF[['minutes','GP','threeAttempted','ftAttempted','fgAttempted']].describe()"
   ]
  },
  {
   "cell_type": "code",
   "execution_count": 8,
   "metadata": {},
   "outputs": [
    {
     "name": "stdout",
     "output_type": "stream",
     "text": [
      "Please enter Minutes:\n",
      "Please enter Games:\n",
      "Please enter threeAttempted:\n",
      "Please enter ftAttempted:\n",
      "Please enter fgAttempted:\n"
     ]
    }
   ],
   "source": [
    "Minimum_Minutes=input('Please enter Minutes:')\n",
    "Minimum_Games=input('Please enter Games:')\n",
    "Minimum_threeAttempted=input('Please enter threeAttempted:')\n",
    "Minimum_ftAttempted=input('Please enter ftAttempted:')\n",
    "Minimum_fgAttempted=input('Please enter fgAttempted:')"
   ]
  },
  {
   "cell_type": "code",
   "execution_count": 9,
   "metadata": {},
   "outputs": [
    {
     "name": "stdout",
     "output_type": "stream",
     "text": [
      "5000  /  300  /  1000  /  1000  /  2500\n"
     ]
    }
   ],
   "source": [
    "if Minimum_Minutes=='':\n",
    "    Minimum_Minutes=5000\n",
    "if Minimum_Games== '':\n",
    "    Minimum_Games=300\n",
    "if Minimum_threeAttempted=='':\n",
    "    Minimum_threeAttempted=1000\n",
    "if Minimum_ftAttempted=='':\n",
    "    Minimum_ftAttempted=1000\n",
    "if Minimum_fgAttempted=='':\n",
    "    Minimum_fgAttempted=2500\n",
    "print(Minimum_Minutes,Minimum_Games,Minimum_threeAttempted,Minimum_ftAttempted,Minimum_fgAttempted, sep= '  /  ')"
   ]
  },
  {
   "cell_type": "code",
   "execution_count": 10,
   "metadata": {},
   "outputs": [
    {
     "data": {
      "text/plain": [
       "(209, 25)"
      ]
     },
     "execution_count": 10,
     "metadata": {},
     "output_type": "execute_result"
    }
   ],
   "source": [
    "## Change string entries to integers\n",
    "Minimum_Minutes=int(Minimum_Minutes)\n",
    "Minimum_Games=int(Minimum_Games)\n",
    "Minimum_ftAttempted=int(Minimum_ftAttempted)\n",
    "Minimum_fgAttempted=int(Minimum_fgAttempted)\n",
    "Minimum_threeAttempted=int(Minimum_threeAttempted)\n",
    "\n",
    "## Create new DataFrame based on criteria specified\n",
    "New_DF=New_DF[New_DF.minutes>=Minimum_Minutes]\n",
    "New_DF=New_DF[New_DF.GP>=Minimum_Games]\n",
    "New_DF=New_DF[New_DF.ftAttempted>=Minimum_ftAttempted]\n",
    "New_DF=New_DF[New_DF.fgAttempted>=Minimum_fgAttempted]\n",
    "New_DF=New_DF[New_DF.threeAttempted>=Minimum_threeAttempted]\n",
    "New_DF.shape"
   ]
  },
  {
   "cell_type": "code",
   "execution_count": 11,
   "metadata": {},
   "outputs": [
    {
     "data": {
      "text/plain": [
       "(209, 24)"
      ]
     },
     "execution_count": 11,
     "metadata": {},
     "output_type": "execute_result"
    }
   ],
   "source": [
    "New_DF=New_DF.set_index('Full_Name')\n",
    "New_DF.shape"
   ]
  },
  {
   "cell_type": "markdown",
   "metadata": {},
   "source": [
    "This section aggregates the performace criteria to see who is most effecient. We deduct the Turnover Efficiency because in this case a lower value is better."
   ]
  },
  {
   "cell_type": "code",
   "execution_count": 12,
   "metadata": {},
   "outputs": [
    {
     "data": {
      "text/html": [
       "<div>\n",
       "<style scoped>\n",
       "    .dataframe tbody tr th:only-of-type {\n",
       "        vertical-align: middle;\n",
       "    }\n",
       "\n",
       "    .dataframe tbody tr th {\n",
       "        vertical-align: top;\n",
       "    }\n",
       "\n",
       "    .dataframe thead th {\n",
       "        text-align: right;\n",
       "    }\n",
       "</style>\n",
       "<table border=\"1\" class=\"dataframe\">\n",
       "  <thead>\n",
       "    <tr style=\"text-align: right;\">\n",
       "      <th></th>\n",
       "      <th>GP</th>\n",
       "      <th>minutes</th>\n",
       "      <th>points</th>\n",
       "      <th>rebounds</th>\n",
       "      <th>assists</th>\n",
       "      <th>steals</th>\n",
       "      <th>blocks</th>\n",
       "      <th>turnovers</th>\n",
       "      <th>PF</th>\n",
       "      <th>fgAttempted</th>\n",
       "      <th>...</th>\n",
       "      <th>Points_Eff</th>\n",
       "      <th>Rebounds_Eff</th>\n",
       "      <th>Assists_Eff</th>\n",
       "      <th>Steals_Eff</th>\n",
       "      <th>Blocks_Eff</th>\n",
       "      <th>Turnovers_Eff</th>\n",
       "      <th>FG_PCT</th>\n",
       "      <th>FT_PCT</th>\n",
       "      <th>Three_PCT</th>\n",
       "      <th>Overall_Score</th>\n",
       "    </tr>\n",
       "    <tr>\n",
       "      <th>Full_Name</th>\n",
       "      <th></th>\n",
       "      <th></th>\n",
       "      <th></th>\n",
       "      <th></th>\n",
       "      <th></th>\n",
       "      <th></th>\n",
       "      <th></th>\n",
       "      <th></th>\n",
       "      <th></th>\n",
       "      <th></th>\n",
       "      <th></th>\n",
       "      <th></th>\n",
       "      <th></th>\n",
       "      <th></th>\n",
       "      <th></th>\n",
       "      <th></th>\n",
       "      <th></th>\n",
       "      <th></th>\n",
       "      <th></th>\n",
       "      <th></th>\n",
       "      <th></th>\n",
       "    </tr>\n",
       "  </thead>\n",
       "  <tbody>\n",
       "    <tr>\n",
       "      <th>Aaron Crawford [crawfja01]</th>\n",
       "      <td>812</td>\n",
       "      <td>25816</td>\n",
       "      <td>12409</td>\n",
       "      <td>2080</td>\n",
       "      <td>3153</td>\n",
       "      <td>796</td>\n",
       "      <td>185</td>\n",
       "      <td>1662</td>\n",
       "      <td>1311</td>\n",
       "      <td>10608</td>\n",
       "      <td>...</td>\n",
       "      <td>0.480671</td>\n",
       "      <td>0.08057</td>\n",
       "      <td>0.122134</td>\n",
       "      <td>0.030834</td>\n",
       "      <td>0.007166</td>\n",
       "      <td>0.064379</td>\n",
       "      <td>0.408371</td>\n",
       "      <td>0.852186</td>\n",
       "      <td>0.347706</td>\n",
       "      <td>2.265259</td>\n",
       "    </tr>\n",
       "  </tbody>\n",
       "</table>\n",
       "<p>1 rows × 25 columns</p>\n",
       "</div>"
      ],
      "text/plain": [
       "                             GP  minutes  points  rebounds  assists  steals  \\\n",
       "Full_Name                                                                     \n",
       "Aaron Crawford [crawfja01]  812    25816   12409      2080     3153     796   \n",
       "\n",
       "                            blocks  turnovers    PF  fgAttempted  \\\n",
       "Full_Name                                                          \n",
       "Aaron Crawford [crawfja01]     185       1662  1311        10608   \n",
       "\n",
       "                                ...        Points_Eff  Rebounds_Eff  \\\n",
       "Full_Name                       ...                                   \n",
       "Aaron Crawford [crawfja01]      ...          0.480671       0.08057   \n",
       "\n",
       "                            Assists_Eff  Steals_Eff  Blocks_Eff  \\\n",
       "Full_Name                                                         \n",
       "Aaron Crawford [crawfja01]     0.122134    0.030834    0.007166   \n",
       "\n",
       "                            Turnovers_Eff    FG_PCT    FT_PCT  Three_PCT  \\\n",
       "Full_Name                                                                  \n",
       "Aaron Crawford [crawfja01]       0.064379  0.408371  0.852186   0.347706   \n",
       "\n",
       "                            Overall_Score  \n",
       "Full_Name                                  \n",
       "Aaron Crawford [crawfja01]       2.265259  \n",
       "\n",
       "[1 rows x 25 columns]"
      ]
     },
     "execution_count": 12,
     "metadata": {},
     "output_type": "execute_result"
    }
   ],
   "source": [
    "New_DF['Overall_Score']=(New_DF['Points_Eff']+ New_DF['Rebounds_Eff'] + New_DF['Assists_Eff'] +\n",
    "                         New_DF['Steals_Eff'] + New_DF['Blocks_Eff'] -New_DF['Turnovers_Eff'] +\n",
    "                         New_DF['FG_PCT'] + New_DF['FT_PCT']  + New_DF['Three_PCT'] )\n",
    "New_DF.head(1)"
   ]
  },
  {
   "cell_type": "markdown",
   "metadata": {},
   "source": [
    "Here, we are taking the top 15 players by overall score. We also sort the list alphabetically so it is easier for the reader to see. In our graph we want to highlight the player with the highest score and we want it to be dynamic.  Therefore, we are setting that variable to be 'y' by doing a filter for max score and then slicing from the index value. We use this technique number of times below as well."
   ]
  },
  {
   "cell_type": "code",
   "execution_count": 13,
   "metadata": {},
   "outputs": [
    {
     "data": {
      "text/plain": [
       "'Larry Bird [birdla01]'"
      ]
     },
     "execution_count": 13,
     "metadata": {},
     "output_type": "execute_result"
    }
   ],
   "source": [
    "Best_Player=New_DF[['Overall_Score']]\n",
    "Best_Player=Best_Player.sort_values('Overall_Score', ascending= False)\n",
    "Best_Player=Best_Player.head(15)\n",
    "Best_Player=Best_Player.sort_index(ascending=True)\n",
    "y=Best_Player[Best_Player['Overall_Score']== Best_Player['Overall_Score'].max()].index[0]\n",
    "y"
   ]
  },
  {
   "cell_type": "code",
   "execution_count": 14,
   "metadata": {},
   "outputs": [
    {
     "data": {
      "image/png": "[encoded data removed]",
      "text/plain": [
       "<Figure size 432x288 with 1 Axes>"
      ]
     },
     "metadata": {},
     "output_type": "display_data"
    }
   ],
   "source": [
    "fig, ax = plt.subplots()\n",
    "Best_Player.plot(ax=ax, kind='barh',figsize=(6,4), width=.25, color='lightblue')\n",
    "ax.set_title('Overall Player Effeciency', fontsize=14, loc='left')\n",
    "ax.set_ylabel('Name',color='red',fontsize=12)\n",
    "ax.set_xlabel('Effeciency',color='red',fontsize=12)\n",
    "ax.set_xlim(0,4)                 \n",
    "ax.tick_params(axis='x',labelcolor='blue')\n",
    "ax.tick_params(axis='y',labelcolor='blue')\n",
    "ax.legend(loc='best')\n",
    "ax.get_children()[list(Best_Player.index).index(y)].set_color('orange')"
   ]
  },
  {
   "cell_type": "markdown",
   "metadata": {},
   "source": [
    "### Section 2: Relationship between Draft Position and Points Scored"
   ]
  },
  {
   "cell_type": "markdown",
   "metadata": {},
   "source": [
    "We are using the DataFrame 'pm' created in the section above. Since there are multiple entries for years, we need to aggregate by 'playerID' as that is the only unique value for each player (there are examples of different players with the exact same first and last name)."
   ]
  },
  {
   "cell_type": "code",
   "execution_count": 15,
   "metadata": {},
   "outputs": [
    {
     "data": {
      "text/html": [
       "<div>\n",
       "<style scoped>\n",
       "    .dataframe tbody tr th:only-of-type {\n",
       "        vertical-align: middle;\n",
       "    }\n",
       "\n",
       "    .dataframe tbody tr th {\n",
       "        vertical-align: top;\n",
       "    }\n",
       "\n",
       "    .dataframe thead th {\n",
       "        text-align: right;\n",
       "    }\n",
       "</style>\n",
       "<table border=\"1\" class=\"dataframe\">\n",
       "  <thead>\n",
       "    <tr style=\"text-align: right;\">\n",
       "      <th></th>\n",
       "      <th>playerID</th>\n",
       "      <th>points</th>\n",
       "    </tr>\n",
       "  </thead>\n",
       "  <tbody>\n",
       "    <tr>\n",
       "      <th>1463</th>\n",
       "      <td>malonka01</td>\n",
       "      <td>36928</td>\n",
       "    </tr>\n",
       "  </tbody>\n",
       "</table>\n",
       "</div>"
      ],
      "text/plain": [
       "       playerID  points\n",
       "1463  malonka01   36928"
      ]
     },
     "execution_count": 15,
     "metadata": {},
     "output_type": "execute_result"
    }
   ],
   "source": [
    "draft=pd.read_csv(url_1)\n",
    "Scatter_DF=pm[['playerID','points']]\n",
    "Total_Points=Scatter_DF.groupby('playerID', as_index=False)['points'].aggregate(sum)\n",
    "Total_Points.sort_values('points', ascending=False).head(1)"
   ]
  },
  {
   "cell_type": "code",
   "execution_count": 16,
   "metadata": {},
   "outputs": [
    {
     "data": {
      "text/html": [
       "<div>\n",
       "<style scoped>\n",
       "    .dataframe tbody tr th:only-of-type {\n",
       "        vertical-align: middle;\n",
       "    }\n",
       "\n",
       "    .dataframe tbody tr th {\n",
       "        vertical-align: top;\n",
       "    }\n",
       "\n",
       "    .dataframe thead th {\n",
       "        text-align: right;\n",
       "    }\n",
       "</style>\n",
       "<table border=\"1\" class=\"dataframe\">\n",
       "  <thead>\n",
       "    <tr style=\"text-align: right;\">\n",
       "      <th></th>\n",
       "      <th>playerID</th>\n",
       "      <th>points</th>\n",
       "      <th>draftYear</th>\n",
       "      <th>draftRound</th>\n",
       "      <th>draftSelection</th>\n",
       "      <th>draftOverall</th>\n",
       "      <th>tmID</th>\n",
       "      <th>firstName</th>\n",
       "      <th>lastName</th>\n",
       "      <th>suffixName</th>\n",
       "      <th>draftFrom</th>\n",
       "      <th>lgID</th>\n",
       "    </tr>\n",
       "  </thead>\n",
       "  <tbody>\n",
       "    <tr>\n",
       "      <th>0</th>\n",
       "      <td>abdelal01</td>\n",
       "      <td>1465</td>\n",
       "      <td>1990</td>\n",
       "      <td>1</td>\n",
       "      <td>25</td>\n",
       "      <td>25</td>\n",
       "      <td>POR</td>\n",
       "      <td>Alaa</td>\n",
       "      <td>Abdelnaby</td>\n",
       "      <td>NaN</td>\n",
       "      <td>Duke</td>\n",
       "      <td>NBA</td>\n",
       "    </tr>\n",
       "  </tbody>\n",
       "</table>\n",
       "</div>"
      ],
      "text/plain": [
       "    playerID  points  draftYear  draftRound  draftSelection  draftOverall  \\\n",
       "0  abdelal01    1465       1990           1              25            25   \n",
       "\n",
       "  tmID firstName   lastName suffixName draftFrom lgID  \n",
       "0  POR      Alaa  Abdelnaby        NaN      Duke  NBA  "
      ]
     },
     "execution_count": 16,
     "metadata": {},
     "output_type": "execute_result"
    }
   ],
   "source": [
    "## We are now merging the 'Total_Points' DataFrame with the 'draft' DataFrame so we can create a scatter plot\n",
    "New_DF_Scatter=Total_Points.merge(draft, left_on='playerID',right_on= 'playerID', how='inner' )\n",
    "New_DF_Scatter.head(1)"
   ]
  },
  {
   "cell_type": "markdown",
   "metadata": {},
   "source": [
    "We are importing the Seaborn package to give us scatter and trend lines. We are trying to find a relationship between points scored and overall draft position. We see a negative trend becuase better players (picked early in draft) should score more points. We also calculated the correlation below the chart to validate our results. The correlation is indeed negative but not to the degree that we had expected. This could be because points scored are only one of several criteria signaling high performance. We could do an analysis of draft picks and overall player effeciency but are limited due to the length constraints of the project."
   ]
  },
  {
   "cell_type": "code",
   "execution_count": 17,
   "metadata": {},
   "outputs": [
    {
     "data": {
      "text/plain": [
       "<matplotlib.axes._subplots.AxesSubplot at 0x1a166aeba8>"
      ]
     },
     "execution_count": 17,
     "metadata": {},
     "output_type": "execute_result"
    },
    {
     "data": {
      "image/png": "[encoded data removed]",
      "text/plain": [
       "<Figure size 432x288 with 1 Axes>"
      ]
     },
     "metadata": {},
     "output_type": "display_data"
    }
   ],
   "source": [
    "import seaborn as sns\n",
    "sns.regplot(x='draftOverall', y='points' ,data=New_DF_Scatter)"
   ]
  },
  {
   "cell_type": "code",
   "execution_count": 18,
   "metadata": {},
   "outputs": [
    {
     "data": {
      "text/html": [
       "<div>\n",
       "<style scoped>\n",
       "    .dataframe tbody tr th:only-of-type {\n",
       "        vertical-align: middle;\n",
       "    }\n",
       "\n",
       "    .dataframe tbody tr th {\n",
       "        vertical-align: top;\n",
       "    }\n",
       "\n",
       "    .dataframe thead th {\n",
       "        text-align: right;\n",
       "    }\n",
       "</style>\n",
       "<table border=\"1\" class=\"dataframe\">\n",
       "  <thead>\n",
       "    <tr style=\"text-align: right;\">\n",
       "      <th></th>\n",
       "      <th>points</th>\n",
       "      <th>draftOverall</th>\n",
       "    </tr>\n",
       "  </thead>\n",
       "  <tbody>\n",
       "    <tr>\n",
       "      <th>points</th>\n",
       "      <td>1.00000</td>\n",
       "      <td>-0.29248</td>\n",
       "    </tr>\n",
       "    <tr>\n",
       "      <th>draftOverall</th>\n",
       "      <td>-0.29248</td>\n",
       "      <td>1.00000</td>\n",
       "    </tr>\n",
       "  </tbody>\n",
       "</table>\n",
       "</div>"
      ],
      "text/plain": [
       "               points  draftOverall\n",
       "points        1.00000      -0.29248\n",
       "draftOverall -0.29248       1.00000"
      ]
     },
     "execution_count": 18,
     "metadata": {},
     "output_type": "execute_result"
    }
   ],
   "source": [
    "New_DF_Scatter[['points','draftOverall']].corr()"
   ]
  },
  {
   "cell_type": "markdown",
   "metadata": {},
   "source": [
    "### Section 3: Evaluating each player by respective position"
   ]
  },
  {
   "cell_type": "markdown",
   "metadata": {},
   "source": [
    "In section 1, we considered all performance metrics for all players. While this was a worthwhile exercise, one could argue that for some positions, certain criteria do not apply. For example, centers are usually the tallest players and don't handle the ball too much nor do they take three pointers. Therefore, for centers and forwards, we will be excluding the three point, turnover, and steals performace criteria. This would give a better indication of the best player is for that particular position. First, we are taking out any entries for which a position is not listed. Also, there are some players that played multiple positions. Therefore, it becomes difficult to figure out how to break this down. We are assuming that the first letter corresponds to the position for which the player is better suited. For example, F-C, implies that the player's primary speciality is that of a forward, but he also can play center. Similarly, G-F-C implies that the player's best skills lie at guard, followed by forward and center. Of course, this is a subjective assessment, and there are people who may have different opinions on how to break this down. We felt that this gives the best breakdown to analyze the performance metrics. "
   ]
  },
  {
   "cell_type": "code",
   "execution_count": 19,
   "metadata": {},
   "outputs": [
    {
     "data": {
      "text/plain": [
       "G        1625\n",
       "F        1354\n",
       "C         501\n",
       "F-C       444\n",
       "G-F       427\n",
       "F-G       254\n",
       "C-F       251\n",
       "F-C-G      11\n",
       "F-G-C       7\n",
       "C-G         2\n",
       "G-F-C       1\n",
       " G          1\n",
       "C-F-G       1\n",
       "Name: pos, dtype: int64"
      ]
     },
     "execution_count": 19,
     "metadata": {},
     "output_type": "execute_result"
    }
   ],
   "source": [
    "master_1=master.loc[master['pos'].notnull(),:]\n",
    "master_1['pos'].value_counts()"
   ]
  },
  {
   "cell_type": "code",
   "execution_count": 20,
   "metadata": {},
   "outputs": [
    {
     "name": "stderr",
     "output_type": "stream",
     "text": [
      "/anaconda3/lib/python3.6/site-packages/ipykernel_launcher.py:2: SettingWithCopyWarning: \n",
      "A value is trying to be set on a copy of a slice from a DataFrame.\n",
      "Try using .loc[row_indexer,col_indexer] = value instead\n",
      "\n",
      "See the caveats in the documentation: http://pandas.pydata.org/pandas-docs/stable/indexing.html#indexing-view-versus-copy\n",
      "  \n"
     ]
    }
   ],
   "source": [
    "# Taking the first letter of every position and creating a new column with respective positions\n",
    "master_1['new_pos']=master_1['pos'].astype(str).str[0]\n",
    "pm=players.merge(master_1, left_on='playerID', right_on='bioID', how='inner') # Merging the DataFrames\n",
    "pm['Full_Name'] = pm['firstName'] + ' ' + pm['lastName'] + ' ' + '[' + pm['playerID'] + ']' # Creating a new column \"Full_Name\""
   ]
  },
  {
   "cell_type": "markdown",
   "metadata": {},
   "source": [
    "Next, we will create DataFrames by position (Centers / Forwards / Guards). We will do this by filtering for the respective positions. Then, we aggregate the data and create performance criteria. For centers, we are not considering a minimum number of three point shots attempted as this will greatly limit the sample size. This is because the centers usually dont attempt many three point shots. As mentioned above, we are not considering three pointers, turnovers, and steals effeciency criteria for the centers and forwards. We will consider all performance criteria for guards because they are well rounded."
   ]
  },
  {
   "cell_type": "code",
   "execution_count": 21,
   "metadata": {},
   "outputs": [
    {
     "name": "stdout",
     "output_type": "stream",
     "text": [
      "F    6510\n",
      "G    6436\n",
      "C    2595\n",
      "Name: new_pos, dtype: int64\n"
     ]
    }
   ],
   "source": [
    "Pos_DF=pm[['Full_Name','new_pos','GP','minutes','points','rebounds','assists','steals','blocks','turnovers','PF','fgAttempted',\n",
    "         'fgMade','ftAttempted','ftMade','threeAttempted','threeMade']]\n",
    "print(Pos_DF['new_pos'].value_counts())\n",
    "\n",
    "Center=Pos_DF[Pos_DF['new_pos'] == 'C']\n",
    "Forward=Pos_DF[Pos_DF['new_pos'] == 'F']\n",
    "Guard=Pos_DF[Pos_DF['new_pos'] == 'G']"
   ]
  },
  {
   "cell_type": "code",
   "execution_count": 22,
   "metadata": {},
   "outputs": [],
   "source": [
    "Center=Center.groupby('Full_Name', as_index=False).aggregate(sum)\n",
    "\n",
    "Center['Points_Eff']=Center['points']/Center['minutes']\n",
    "Center['Rebounds_Eff']=Center['rebounds']/Center['minutes']\n",
    "Center['Assists_Eff']=Center['assists']/Center['minutes']\n",
    "Center['Steals_Eff']=Center['steals']/Center['minutes']\n",
    "Center['Blocks_Eff']=Center['blocks']/Center['minutes']\n",
    "Center['Turnovers_Eff']=Center['turnovers']/Center['minutes']\n",
    "Center['FG_PCT']=Center['fgMade']/Center['fgAttempted']\n",
    "Center['FT_PCT']=Center['ftMade']/Center['ftAttempted']\n",
    "Center['Three_PCT']=Center['threeMade']/Center['threeAttempted']"
   ]
  },
  {
   "cell_type": "code",
   "execution_count": 23,
   "metadata": {},
   "outputs": [],
   "source": [
    "Forward=Forward.groupby('Full_Name', as_index=False).aggregate(sum)\n",
    "\n",
    "Forward['Points_Eff']=Forward['points']/Forward['minutes']\n",
    "Forward['Rebounds_Eff']=Forward['rebounds']/Forward['minutes']\n",
    "Forward['Assists_Eff']=Forward['assists']/Forward['minutes']\n",
    "Forward['Steals_Eff']=Forward['steals']/Forward['minutes']\n",
    "Forward['Blocks_Eff']=Forward['blocks']/Forward['minutes']\n",
    "Forward['Turnovers_Eff']=Forward['turnovers']/Forward['minutes']\n",
    "Forward['FG_PCT']=Forward['fgMade']/Forward['fgAttempted']\n",
    "Forward['FT_PCT']=Forward['ftMade']/Forward['ftAttempted']\n",
    "Forward['Three_PCT']=Forward['threeMade']/Forward['threeAttempted']"
   ]
  },
  {
   "cell_type": "code",
   "execution_count": 24,
   "metadata": {},
   "outputs": [],
   "source": [
    "Guard=Guard.groupby('Full_Name', as_index=False).aggregate(sum)\n",
    "\n",
    "Guard['Points_Eff']=Guard['points']/Guard['minutes']\n",
    "Guard['Rebounds_Eff']=Guard['rebounds']/Guard['minutes']\n",
    "Guard['Assists_Eff']=Guard['assists']/Guard['minutes']\n",
    "Guard['Steals_Eff']=Guard['steals']/Guard['minutes']\n",
    "Guard['Blocks_Eff']=Guard['blocks']/Guard['minutes']\n",
    "Guard['Turnovers_Eff']=Guard['turnovers']/Guard['minutes']\n",
    "Guard['FG_PCT']=Guard['fgMade']/Guard['fgAttempted']\n",
    "Guard['FT_PCT']=Guard['ftMade']/Guard['ftAttempted']\n",
    "Guard['Three_PCT']=Guard['threeMade']/Guard['threeAttempted']"
   ]
  },
  {
   "cell_type": "code",
   "execution_count": 25,
   "metadata": {},
   "outputs": [],
   "source": [
    "Center_1=Center[Center.minutes>=Minimum_Minutes]\n",
    "Center_1=Center[Center.GP>=Minimum_Games]\n",
    "Center_1=Center[Center.ftAttempted>=Minimum_ftAttempted]\n",
    "Center_1=Center[Center.fgAttempted>=Minimum_fgAttempted]\n",
    "Center_1=Center_1.set_index('Full_Name')\n",
    "\n",
    "Forward_1=Forward[Forward.minutes>=Minimum_Minutes]\n",
    "Forward_1=Forward[Forward.GP>=Minimum_Games]\n",
    "Forward_1=Forward[Forward.ftAttempted>=Minimum_ftAttempted]\n",
    "Forward_1=Forward[Forward.fgAttempted>=Minimum_fgAttempted]\n",
    "Forward_1=Forward_1.set_index('Full_Name')\n",
    "\n",
    "Guard_1=Guard[Guard.minutes>=Minimum_Minutes]\n",
    "Guard_1=Guard[Guard.GP>=Minimum_Games]\n",
    "Guard_1=Guard[Guard.ftAttempted>=Minimum_ftAttempted]\n",
    "Guard_1=Guard[Guard.fgAttempted>=Minimum_fgAttempted]\n",
    "Guard_1=Guard[Guard.threeAttempted>=Minimum_threeAttempted]\n",
    "Guard_1=Guard_1.set_index('Full_Name')"
   ]
  },
  {
   "cell_type": "code",
   "execution_count": 26,
   "metadata": {},
   "outputs": [],
   "source": [
    "Center_1['Overall_Score']=(Center_1['Points_Eff']+ Center_1['Rebounds_Eff'] + Center_1['Assists_Eff'] +\n",
    "                           Center_1['Blocks_Eff']  + Center_1['FG_PCT'] + Center_1['FT_PCT'] )\n",
    "\n",
    "Forward_1['Overall_Score']=(Forward_1['Points_Eff']+ Forward_1['Rebounds_Eff'] + Forward_1['Assists_Eff'] +\n",
    "                           Forward_1['Blocks_Eff']  + Forward_1['FG_PCT'] + Forward_1['FT_PCT'] )\n",
    "\n",
    "Guard_1['Overall_Score']=(Guard_1['Points_Eff']+ Guard_1['Rebounds_Eff'] + Guard_1['Assists_Eff'] +\n",
    "                         Guard_1['Steals_Eff'] + Guard_1['Blocks_Eff'] - Guard_1['Turnovers_Eff'] +\n",
    "                        Guard_1['FG_PCT'] + Guard_1['FT_PCT']  + Guard_1['Three_PCT'] )\n",
    "\n",
    "Best_Center=Center_1[['Overall_Score']]\n",
    "Best_Center=Best_Center.sort_values('Overall_Score', ascending= False)\n",
    "Best_Center=Best_Center.head(15)\n",
    "Best_Center=Best_Center.sort_index(ascending=True)\n",
    "\n",
    "Best_Forward=Forward_1[['Overall_Score']]\n",
    "Best_Forward=Best_Forward.sort_values('Overall_Score', ascending= False)\n",
    "Best_Forward=Best_Forward.head(15)\n",
    "Best_Forward=Best_Forward.sort_index(ascending=True)\n",
    "\n",
    "Best_Guard=Guard_1[['Overall_Score']]\n",
    "Best_Guard=Best_Guard.sort_values('Overall_Score', ascending= False)\n",
    "Best_Guard=Best_Guard.head(15)\n",
    "Best_Guard=Best_Guard.sort_index(ascending=True)\n",
    "\n",
    "c=Best_Center[Best_Center['Overall_Score']== Best_Center['Overall_Score'].max()].index[0]\n",
    "f=Best_Forward[Best_Forward['Overall_Score']== Best_Forward['Overall_Score'].max()].index[0]\n",
    "g=Best_Guard[Best_Guard['Overall_Score']== Best_Guard['Overall_Score'].max()].index[0]"
   ]
  },
  {
   "cell_type": "code",
   "execution_count": 27,
   "metadata": {},
   "outputs": [
    {
     "data": {
      "image/png": "[encoded data removed]",
      "text/plain": [
       "<Figure size 432x288 with 1 Axes>"
      ]
     },
     "metadata": {},
     "output_type": "display_data"
    },
    {
     "data": {
      "image/png": "[encoded data removed]",
      "text/plain": [
       "<Figure size 432x288 with 1 Axes>"
      ]
     },
     "metadata": {},
     "output_type": "display_data"
    },
    {
     "data": {
      "image/png": "[encoded data removed]",
      "text/plain": [
       "<Figure size 432x288 with 1 Axes>"
      ]
     },
     "metadata": {},
     "output_type": "display_data"
    }
   ],
   "source": [
    "fig, ax = plt.subplots()\n",
    "Best_Center.plot(ax=ax, kind='barh',figsize=(6,4), width=.25, color='lightblue')\n",
    "ax.set_title('Best Center', fontsize=14, loc='left')\n",
    "ax.set_ylabel('Name',color='red',fontsize=12)\n",
    "ax.set_xlabel('Effeciency',color='red',fontsize=12)\n",
    "ax.set_xlim(0,4)                \n",
    "ax.tick_params(axis='x',labelcolor='blue')\n",
    "ax.tick_params(axis='y',labelcolor='blue')\n",
    "ax.legend(loc='best')\n",
    "ax.get_children()[list(Best_Center.index).index(c)].set_color('orange')\n",
    "\n",
    "fig, ax = plt.subplots()\n",
    "Best_Forward.plot(ax=ax, kind='barh',figsize=(6,4), width=.25, color='lightblue')\n",
    "ax.set_title('Best Forward', fontsize=14, loc='left')\n",
    "ax.set_ylabel('Name',color='red',fontsize=12)\n",
    "ax.set_xlabel('Effeciency',color='red',fontsize=12)\n",
    "ax.set_xlim(0,4)                \n",
    "ax.tick_params(axis='x',labelcolor='blue')\n",
    "ax.tick_params(axis='y',labelcolor='blue')\n",
    "ax.legend(loc='best')\n",
    "ax.get_children()[list(Best_Forward.index).index(f)].set_color('orange')\n",
    "\n",
    "fig, ax = plt.subplots()\n",
    "Best_Guard.plot(ax=ax, kind='barh',figsize=(6,4), width=.25, color='lightblue')\n",
    "ax.set_title('Best Guard', fontsize=14, loc='left')\n",
    "ax.set_ylabel('Name',color='red',fontsize=12)\n",
    "ax.set_xlabel('Effeciency',color='red',fontsize=12)\n",
    "ax.set_xlim(0,4)                \n",
    "ax.tick_params(axis='x',labelcolor='blue')\n",
    "ax.tick_params(axis='y',labelcolor='blue')\n",
    "ax.legend(loc='best')\n",
    "ax.get_children()[list(Best_Guard.index).index(g)].set_color('orange')"
   ]
  },
  {
   "cell_type": "markdown",
   "metadata": {},
   "source": [
    "### Section 4: Relationship between Free Throws and Three Point Percentage "
   ]
  },
  {
   "cell_type": "markdown",
   "metadata": {},
   "source": [
    "We are recreating a new DataFrame from one we used above, repeating a couple of steps. This is necessary as we edited the DataFrame we created earlier."
   ]
  },
  {
   "cell_type": "code",
   "execution_count": 28,
   "metadata": {},
   "outputs": [],
   "source": [
    "Rel_DF=Reg_season.groupby('Full_Name', as_index=False).aggregate(sum)\n",
    "Rel_DF['Points_Eff']=Rel_DF['points']/Rel_DF['minutes']\n",
    "Rel_DF['Rebounds_Eff']=Rel_DF['rebounds']/Rel_DF['minutes']\n",
    "Rel_DF['Assists_Eff']=Rel_DF['assists']/Rel_DF['minutes']\n",
    "Rel_DF['Steals_Eff']=Rel_DF['steals']/Rel_DF['minutes']\n",
    "Rel_DF['Blocks_Eff']=Rel_DF['blocks']/Rel_DF['minutes']\n",
    "Rel_DF['Turnovers_Eff']=Rel_DF['turnovers']/Rel_DF['minutes']\n",
    "Rel_DF['FG_PCT']=Rel_DF['fgMade']/Rel_DF['fgAttempted']\n",
    "Rel_DF['FT_PCT']=Rel_DF['ftMade']/Rel_DF['ftAttempted']\n",
    "Rel_DF['Three_PCT']=Rel_DF['threeMade']/Rel_DF['threeAttempted']"
   ]
  },
  {
   "cell_type": "markdown",
   "metadata": {},
   "source": [
    "For free throw percentage rank, we are also using the same parameters of minimum free throws attempted as in section above."
   ]
  },
  {
   "cell_type": "code",
   "execution_count": 29,
   "metadata": {},
   "outputs": [],
   "source": [
    "## Reduce noise by eliminating irrelavent data\n",
    "Rel_DF=Rel_DF[Rel_DF.ftAttempted>=Minimum_ftAttempted]\n",
    "Rel_DF=Rel_DF[Rel_DF.threeAttempted>=Minimum_threeAttempted]\n",
    "## Create New DataFrame sorted by Highest Free Throw (FT) and Three Point (TP) percenatge\n",
    "FT_Rank = Rel_DF.sort_values('FT_PCT', ascending=False)\n",
    "TP_Rank = Rel_DF.sort_values('Three_PCT', ascending=False)\n",
    "## We are re-setting the index to insert a new column for the DataFrame called Ranking\n",
    "FT_Rank=FT_Rank.reset_index()\n",
    "TP_Rank=TP_Rank.reset_index()"
   ]
  },
  {
   "cell_type": "markdown",
   "metadata": {},
   "source": [
    "The following commands give us the number of rankings we need. We are creating a new column 'FT_Ranking' and 'TP_Ranking'. We do +2 after the 'FT_Rank.index[-1]' to make sure that the lengths coincide. Otherwise the code will error. This will work because we start our ranking with one instead of zero. Therefore we add +2. Since range is inclusive of the first item, but not the last."
   ]
  },
  {
   "cell_type": "code",
   "execution_count": 30,
   "metadata": {},
   "outputs": [
    {
     "name": "stdout",
     "output_type": "stream",
     "text": [
      "208  / 208\n"
     ]
    }
   ],
   "source": [
    "print(FT_Rank.index[-1], TP_Rank.index[-1], sep='  / ')\n",
    "FT_Rank.loc[:, \"FT_Ranking\"] = range( 1, FT_Rank.index[-1] +2 )\n",
    "TP_Rank.loc[:, \"TP_Ranking\"] = range( 1, TP_Rank.index[-1] +2 )\n",
    "## We are also creating two new DataFrames with just the Full Name, and the Free Throw and Three point rankings.\n",
    "FT_Rank_1=FT_Rank[['Full_Name','FT_Ranking']]\n",
    "TP_Rank_1=TP_Rank[['Full_Name','TP_Ranking']]\n",
    "## We now merge these two DataFrames\n",
    "FT_TP_DF=FT_Rank_1.merge(TP_Rank_1, left_on='Full_Name',right_on= 'Full_Name', how='inner' )"
   ]
  },
  {
   "cell_type": "markdown",
   "metadata": {},
   "source": [
    "Next, we are creating a scatter plot and regression table. Based on our assumptions, we get an r-square of 0.176. This states that about 18% of the variation in three point ranking can be explained by the free throw ranking. Our initial thinking was that this would be higher but that's not what the data shows. Of course, since the user has the ability to change assumptions, the r-square will vary as well.  The correlation is about 0.42"
   ]
  },
  {
   "cell_type": "code",
   "execution_count": 31,
   "metadata": {},
   "outputs": [
    {
     "data": {
      "text/html": [
       "<div>\n",
       "<style scoped>\n",
       "    .dataframe tbody tr th:only-of-type {\n",
       "        vertical-align: middle;\n",
       "    }\n",
       "\n",
       "    .dataframe tbody tr th {\n",
       "        vertical-align: top;\n",
       "    }\n",
       "\n",
       "    .dataframe thead th {\n",
       "        text-align: right;\n",
       "    }\n",
       "</style>\n",
       "<table border=\"1\" class=\"dataframe\">\n",
       "  <thead>\n",
       "    <tr style=\"text-align: right;\">\n",
       "      <th></th>\n",
       "      <th>Full_Name</th>\n",
       "      <th>FT_Ranking</th>\n",
       "      <th>TP_Ranking</th>\n",
       "    </tr>\n",
       "  </thead>\n",
       "  <tbody>\n",
       "    <tr>\n",
       "      <th>0</th>\n",
       "      <td>Mahmoud Abdul-Rauf [abdulma02]</td>\n",
       "      <td>1</td>\n",
       "      <td>107</td>\n",
       "    </tr>\n",
       "    <tr>\n",
       "      <th>1</th>\n",
       "      <td>William Price [pricema01]</td>\n",
       "      <td>2</td>\n",
       "      <td>12</td>\n",
       "    </tr>\n",
       "  </tbody>\n",
       "</table>\n",
       "</div>"
      ],
      "text/plain": [
       "                        Full_Name  FT_Ranking  TP_Ranking\n",
       "0  Mahmoud Abdul-Rauf [abdulma02]           1         107\n",
       "1       William Price [pricema01]           2          12"
      ]
     },
     "execution_count": 31,
     "metadata": {},
     "output_type": "execute_result"
    }
   ],
   "source": [
    "FT_TP_DF.head(2)"
   ]
  },
  {
   "cell_type": "code",
   "execution_count": 32,
   "metadata": {},
   "outputs": [
    {
     "data": {
      "text/plain": [
       "<matplotlib.axes._subplots.AxesSubplot at 0x1a1670f780>"
      ]
     },
     "execution_count": 32,
     "metadata": {},
     "output_type": "execute_result"
    },
    {
     "data": {
      "image/png": "[encoded data removed]",
      "text/plain": [
       "<Figure size 432x288 with 1 Axes>"
      ]
     },
     "metadata": {},
     "output_type": "display_data"
    }
   ],
   "source": [
    "sns.regplot(x='FT_Ranking', y='TP_Ranking' ,data=FT_TP_DF)"
   ]
  },
  {
   "cell_type": "code",
   "execution_count": 33,
   "metadata": {},
   "outputs": [
    {
     "data": {
      "text/html": [
       "<table class=\"simpletable\">\n",
       "<caption>OLS Regression Results</caption>\n",
       "<tr>\n",
       "  <th>Dep. Variable:</th>       <td>TP_Ranking</td>    <th>  R-squared:         </th> <td>   0.176</td>\n",
       "</tr>\n",
       "<tr>\n",
       "  <th>Model:</th>                   <td>OLS</td>       <th>  Adj. R-squared:    </th> <td>   0.172</td>\n",
       "</tr>\n",
       "<tr>\n",
       "  <th>Method:</th>             <td>Least Squares</td>  <th>  F-statistic:       </th> <td>   44.30</td>\n",
       "</tr>\n",
       "<tr>\n",
       "  <th>Date:</th>             <td>Fri, 21 Dec 2018</td> <th>  Prob (F-statistic):</th> <td>2.48e-10</td>\n",
       "</tr>\n",
       "<tr>\n",
       "  <th>Time:</th>                 <td>16:41:55</td>     <th>  Log-Likelihood:    </th> <td> -1133.2</td>\n",
       "</tr>\n",
       "<tr>\n",
       "  <th>No. Observations:</th>      <td>   209</td>      <th>  AIC:               </th> <td>   2270.</td>\n",
       "</tr>\n",
       "<tr>\n",
       "  <th>Df Residuals:</th>          <td>   207</td>      <th>  BIC:               </th> <td>   2277.</td>\n",
       "</tr>\n",
       "<tr>\n",
       "  <th>Df Model:</th>              <td>     1</td>      <th>                     </th>     <td> </td>   \n",
       "</tr>\n",
       "<tr>\n",
       "  <th>Covariance Type:</th>      <td>nonrobust</td>    <th>                     </th>     <td> </td>   \n",
       "</tr>\n",
       "</table>\n",
       "<table class=\"simpletable\">\n",
       "<tr>\n",
       "       <td></td>         <th>coef</th>     <th>std err</th>      <th>t</th>      <th>P>|t|</th>  <th>[0.025</th>    <th>0.975]</th>  \n",
       "</tr>\n",
       "<tr>\n",
       "  <th>Intercept</th>  <td>   60.9136</td> <td>    7.639</td> <td>    7.974</td> <td> 0.000</td> <td>   45.853</td> <td>   75.974</td>\n",
       "</tr>\n",
       "<tr>\n",
       "  <th>FT_Ranking</th> <td>    0.4199</td> <td>    0.063</td> <td>    6.656</td> <td> 0.000</td> <td>    0.296</td> <td>    0.544</td>\n",
       "</tr>\n",
       "</table>\n",
       "<table class=\"simpletable\">\n",
       "<tr>\n",
       "  <th>Omnibus:</th>       <td>31.736</td> <th>  Durbin-Watson:     </th> <td>   2.149</td>\n",
       "</tr>\n",
       "<tr>\n",
       "  <th>Prob(Omnibus):</th> <td> 0.000</td> <th>  Jarque-Bera (JB):  </th> <td>   8.405</td>\n",
       "</tr>\n",
       "<tr>\n",
       "  <th>Skew:</th>          <td> 0.072</td> <th>  Prob(JB):          </th> <td>  0.0150</td>\n",
       "</tr>\n",
       "<tr>\n",
       "  <th>Kurtosis:</th>      <td> 2.028</td> <th>  Cond. No.          </th> <td>    243.</td>\n",
       "</tr>\n",
       "</table><br/><br/>Warnings:<br/>[1] Standard Errors assume that the covariance matrix of the errors is correctly specified."
      ],
      "text/plain": [
       "<class 'statsmodels.iolib.summary.Summary'>\n",
       "\"\"\"\n",
       "                            OLS Regression Results                            \n",
       "==============================================================================\n",
       "Dep. Variable:             TP_Ranking   R-squared:                       0.176\n",
       "Model:                            OLS   Adj. R-squared:                  0.172\n",
       "Method:                 Least Squares   F-statistic:                     44.30\n",
       "Date:                Fri, 21 Dec 2018   Prob (F-statistic):           2.48e-10\n",
       "Time:                        16:41:55   Log-Likelihood:                -1133.2\n",
       "No. Observations:                 209   AIC:                             2270.\n",
       "Df Residuals:                     207   BIC:                             2277.\n",
       "Df Model:                           1                                         \n",
       "Covariance Type:            nonrobust                                         \n",
       "==============================================================================\n",
       "                 coef    std err          t      P>|t|      [0.025      0.975]\n",
       "------------------------------------------------------------------------------\n",
       "Intercept     60.9136      7.639      7.974      0.000      45.853      75.974\n",
       "FT_Ranking     0.4199      0.063      6.656      0.000       0.296       0.544\n",
       "==============================================================================\n",
       "Omnibus:                       31.736   Durbin-Watson:                   2.149\n",
       "Prob(Omnibus):                  0.000   Jarque-Bera (JB):                8.405\n",
       "Skew:                           0.072   Prob(JB):                       0.0150\n",
       "Kurtosis:                       2.028   Cond. No.                         243.\n",
       "==============================================================================\n",
       "\n",
       "Warnings:\n",
       "[1] Standard Errors assume that the covariance matrix of the errors is correctly specified.\n",
       "\"\"\""
      ]
     },
     "execution_count": 33,
     "metadata": {},
     "output_type": "execute_result"
    }
   ],
   "source": [
    "smf.ols('TP_Ranking ~ FT_Ranking', data=FT_TP_DF).fit().summary()"
   ]
  },
  {
   "cell_type": "code",
   "execution_count": 34,
   "metadata": {},
   "outputs": [
    {
     "data": {
      "text/html": [
       "<div>\n",
       "<style scoped>\n",
       "    .dataframe tbody tr th:only-of-type {\n",
       "        vertical-align: middle;\n",
       "    }\n",
       "\n",
       "    .dataframe tbody tr th {\n",
       "        vertical-align: top;\n",
       "    }\n",
       "\n",
       "    .dataframe thead th {\n",
       "        text-align: right;\n",
       "    }\n",
       "</style>\n",
       "<table border=\"1\" class=\"dataframe\">\n",
       "  <thead>\n",
       "    <tr style=\"text-align: right;\">\n",
       "      <th></th>\n",
       "      <th>FT_Ranking</th>\n",
       "      <th>TP_Ranking</th>\n",
       "    </tr>\n",
       "  </thead>\n",
       "  <tbody>\n",
       "    <tr>\n",
       "      <th>FT_Ranking</th>\n",
       "      <td>1.000000</td>\n",
       "      <td>0.419871</td>\n",
       "    </tr>\n",
       "    <tr>\n",
       "      <th>TP_Ranking</th>\n",
       "      <td>0.419871</td>\n",
       "      <td>1.000000</td>\n",
       "    </tr>\n",
       "  </tbody>\n",
       "</table>\n",
       "</div>"
      ],
      "text/plain": [
       "            FT_Ranking  TP_Ranking\n",
       "FT_Ranking    1.000000    0.419871\n",
       "TP_Ranking    0.419871    1.000000"
      ]
     },
     "execution_count": 34,
     "metadata": {},
     "output_type": "execute_result"
    }
   ],
   "source": [
    "FT_TP_DF.corr()"
   ]
  },
  {
   "cell_type": "markdown",
   "metadata": {},
   "source": [
    "### Section 5: Analyzing Hall of Fame Members by Category"
   ]
  },
  {
   "cell_type": "markdown",
   "metadata": {},
   "source": [
    "To start, we define the DataFrame as 'hof' and then set up a two different series ('category' and 'count') listed in the file. We then use a for loop to create a dictionary from these two series and then convert that dictionary into a DataFrame.  We then add a new column 'Percentage' to assign proportions by category and then create a pie chart."
   ]
  },
  {
   "cell_type": "code",
   "execution_count": 35,
   "metadata": {},
   "outputs": [
    {
     "data": {
      "text/html": [
       "<div>\n",
       "<style scoped>\n",
       "    .dataframe tbody tr th:only-of-type {\n",
       "        vertical-align: middle;\n",
       "    }\n",
       "\n",
       "    .dataframe tbody tr th {\n",
       "        vertical-align: top;\n",
       "    }\n",
       "\n",
       "    .dataframe thead th {\n",
       "        text-align: right;\n",
       "    }\n",
       "</style>\n",
       "<table border=\"1\" class=\"dataframe\">\n",
       "  <thead>\n",
       "    <tr style=\"text-align: right;\">\n",
       "      <th></th>\n",
       "      <th>year</th>\n",
       "      <th>hofID</th>\n",
       "      <th>name</th>\n",
       "      <th>category</th>\n",
       "    </tr>\n",
       "  </thead>\n",
       "  <tbody>\n",
       "    <tr>\n",
       "      <th>0</th>\n",
       "      <td>1959</td>\n",
       "      <td>NaN</td>\n",
       "      <td>Amos Alonzo Stagg</td>\n",
       "      <td>Contributor</td>\n",
       "    </tr>\n",
       "  </tbody>\n",
       "</table>\n",
       "</div>"
      ],
      "text/plain": [
       "   year hofID               name     category\n",
       "0  1959   NaN  Amos Alonzo Stagg  Contributor"
      ]
     },
     "execution_count": 35,
     "metadata": {},
     "output_type": "execute_result"
    }
   ],
   "source": [
    "hof=pd.read_csv(url_2)\n",
    "hof.head(1)"
   ]
  },
  {
   "cell_type": "code",
   "execution_count": 36,
   "metadata": {},
   "outputs": [
    {
     "data": {
      "text/plain": [
       "Index(['Player', 'Coach', 'Contributor', 'Referee', 'Team'], dtype='object')"
      ]
     },
     "execution_count": 36,
     "metadata": {},
     "output_type": "execute_result"
    }
   ],
   "source": [
    "hof['category'].value_counts().index"
   ]
  },
  {
   "cell_type": "code",
   "execution_count": 37,
   "metadata": {},
   "outputs": [
    {
     "data": {
      "text/plain": [
       "Player         157\n",
       "Coach           90\n",
       "Contributor     58\n",
       "Referee         14\n",
       "Team             9\n",
       "Name: category, dtype: int64"
      ]
     },
     "execution_count": 37,
     "metadata": {},
     "output_type": "execute_result"
    }
   ],
   "source": [
    "hof['category'].value_counts()"
   ]
  },
  {
   "cell_type": "code",
   "execution_count": 38,
   "metadata": {},
   "outputs": [
    {
     "data": {
      "image/png": "[encoded data removed]",
      "text/plain": [
       "<Figure size 432x288 with 1 Axes>"
      ]
     },
     "metadata": {},
     "output_type": "display_data"
    }
   ],
   "source": [
    "## Creating dictionary in order to sum up number of entries in each category\n",
    "hof_dict={hof['category'].value_counts().index[0]:hof['category'].value_counts()[0]}\n",
    "for i in range(1,5):\n",
    "    hof_dict[hof['category'].value_counts().index[i]]=hof['category'].value_counts()[i]\n",
    "## Converting dictionary back to a dataframe in order to manipulate and chart\n",
    "hof_df=pd.DataFrame.from_dict(hof_dict,orient='index')\n",
    "hof_df=hof_df.rename(columns={0:'Category'})\n",
    "## Adding percentage column to the dataframe in order to chart it\n",
    "hof_df['Percentage']=hof_df['Category']/hof_df['Category'].sum()\n",
    "hof_df_PCT=hof_df[['Percentage']]\n",
    "\n",
    "labels = 'Player', 'Coach', 'Contributor', 'Referee', 'Team'\n",
    "colors = ['gold', 'yellowgreen', 'lightcoral', 'lightskyblue','pink']\n",
    "sizes = ([hof_df_PCT['Percentage'][0].round(4),hof_df_PCT['Percentage'][1].round(4),hof_df_PCT['Percentage'][2].round(4),\n",
    "         hof_df_PCT['Percentage'][3].round(4),hof_df_PCT['Percentage'][4].round(4)])\n",
    "explode=(0.1,0.1,0.1,0.2,0.2)\n",
    "plt.pie(sizes, explode=explode, labels=labels, colors=colors,\n",
    "        autopct='%1.1f%%', shadow=True, startangle=40)\n",
    "plt.axis('equal')\n",
    "plt.show()"
   ]
  },
  {
   "cell_type": "markdown",
   "metadata": {},
   "source": [
    "Here, we see that players constitute the highest percentage among the groups represented in the hall of fame, with 47.9%, followed by Coaches, then Contributors, Referees, and Teams."
   ]
  },
  {
   "cell_type": "markdown",
   "metadata": {},
   "source": [
    "### Conclusion"
   ]
  },
  {
   "cell_type": "markdown",
   "metadata": {},
   "source": [
    "While our process of selecting various criteria to determine maximum player efficiency was a subjective one, it yielded a collection of players whose names have household resonance: Michael Jordan, LeBron James, Kobe Bryant, Kevin Durant, and our eventual victor, Larry Bird. This suggests that our process had at least some credibility. Similarly, we were able to provide some justification for the claim that players with earlier draft picks are higher point scorers; with further investigation and pages allowed, we might be able to perform similar tests using outher metrics, like rebounds, three pointers, etc. It is relatively apparent, however, that the game's various skills and performance metrics have some reasonable linkage. Overall, while we were able to reach some logical and expected conclusions about basketball based on our organization and interpretation of the data, the debate regarding who constitutes the best player of all time (and why) will likely rage on among basketball's most spirited and loyal fans."
   ]
  }
 ],
 "metadata": {
  "kernelspec": {
   "display_name": "Python 3",
   "language": "python",
   "name": "python3"
  },
  "language_info": {
   "codemirror_mode": {
    "name": "ipython",
    "version": 3
   },
   "file_extension": ".py",
   "mimetype": "text/x-python",
   "name": "python",
   "nbconvert_exporter": "python",
   "pygments_lexer": "ipython3",
   "version": "3.6.5"
  }
 },
 "nbformat": 4,
 "nbformat_minor": 2
}
